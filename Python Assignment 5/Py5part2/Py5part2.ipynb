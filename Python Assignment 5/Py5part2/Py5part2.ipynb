{
 "cells": [
  {
   "cell_type": "code",
   "execution_count": 1,
   "id": "0566937c",
   "metadata": {},
   "outputs": [],
   "source": [
    "import numpy as np\n",
    "import librosa\n",
    "import pretty_midi\n",
    "import matplotlib.pyplot as plt\n",
    "import IPython.display as ipd\n",
    "import sounddevice as sd\n",
    "import librosa.display\n",
    "import math\n",
    "import scipy\n",
    "import time\n",
    "from scipy import signal"
   ]
  },
  {
   "cell_type": "code",
   "execution_count": 2,
   "id": "20b71a51",
   "metadata": {},
   "outputs": [],
   "source": [
    "\n",
    "sr = 48000"
   ]
  },
  {
   "cell_type": "code",
   "execution_count": 20,
   "id": "bc44d3a8",
   "metadata": {},
   "outputs": [
    {
     "data": {
      "text/plain": [
       "[<matplotlib.lines.Line2D at 0x7fc30a8dfac0>]"
      ]
     },
     "execution_count": 20,
     "metadata": {},
     "output_type": "execute_result"
    },
    {
     "data": {
      "image/png": "[encoded data removed]",
      "text/plain": [
       "<Figure size 432x288 with 1 Axes>"
      ]
     },
     "metadata": {
      "needs_background": "light"
     },
     "output_type": "display_data"
    }
   ],
   "source": [
    "# Importing audio file\n",
    "\n",
    "s, r = librosa.load('./Files/py5-Bass synth.wav', sr=sr)\n",
    "#s2, r2 = librosa.load('./Files/py5-Bass synth', sr=sr)\n",
    "\n",
    "plt.plot(s)"
   ]
  },
  {
   "cell_type": "code",
   "execution_count": 8,
   "id": "3fa63f09",
   "metadata": {},
   "outputs": [],
   "source": [
    "# Functions to apply to the segmented audio\n",
    "\n",
    "def fade(segment, fadesize):\n",
    "    fades = np.array([])\n",
    "    fadesize = fadesize\n",
    "    if segment.size <= (fadesize*2):\n",
    "        fadesize = int(segment.size / 10)\n",
    "        midpart = np.ones(segment.size - (int(fadesize*2)))\n",
    "        fadein = np.linspace(0,1,num=fadesize)\n",
    "        fadeout = np.linspace(1,0,num=fadesize)\n",
    "        fades = np.concatenate((fadein, midpart, fadeout))\n",
    "        \n",
    "    else:         \n",
    "        midpart = np.ones(segment.size - (int(fadesize*2)))   \n",
    "        fadein = np.linspace(0,1,num=fadesize)\n",
    "        fadeout = np.linspace(1,0,num=fadesize)\n",
    "        fades = np.concatenate((fadein, midpart, fadeout))\n",
    "        \n",
    "    y = segment * fades\n",
    "    \n",
    "    return y\n",
    "\n",
    "\n",
    "def sizecheck(segment, result):\n",
    "    if segment.size != result.size:\n",
    "        if segment.size > result.size:\n",
    "            diff = segment.size-result.size            \n",
    "            segment = np.delete(segment_final, diff)\n",
    "            \n",
    "        elif result.size > segment.size:\n",
    "            zeros= np.zeros(result.size - segment.size)\n",
    "            \n",
    "            segment = np.concatenate((segment, zeros))\n",
    "    else:\n",
    "        pass\n",
    "    \n",
    "    return segment\n",
    "\n",
    "def padder(segment, audiototal, current_beat):\n",
    "    y = np.pad(segment, [current_beat, audiototal.size-(current_beat+segment.size)])\n",
    "    return y\n",
    "\n",
    "def overlapper(segment, overlap):\n",
    "    x = segment[overlap:segment.size]\n",
    "    y = np.pad(x, [0, overlap])\n",
    "    return y"
   ]
  },
  {
   "cell_type": "code",
   "execution_count": 9,
   "id": "bf1bfe03",
   "metadata": {},
   "outputs": [],
   "source": [
    "\"\"\"FX processing functions\"\"\"\n",
    "\n",
    "def compressor(audio, threshold, makeup, smoothness):\n",
    "    x = np.array([])\n",
    "    x = np.append(x, audio)\n",
    "    for i in range(smoothness):\n",
    "        index = 0        \n",
    "        for i in x:        \n",
    "            if np.abs(i) >= threshold + 0.3:\n",
    "                x[index] = i * 0.85                 \n",
    "            elif np.abs(i) >= threshold + 0.2:\n",
    "                x[index] = i * 0.90            \n",
    "            elif np.abs(i) >= threshold + 0.1:\n",
    "                x[index] = i * 0.95            \n",
    "            elif np.abs(i) >= threshold:\n",
    "                x[index] = i * 0.99            \n",
    "            else:\n",
    "                x[index] = i\n",
    "            index += 1\n",
    "            \n",
    "    y = x * (1+makeup)\n",
    "    \n",
    "    return y\n",
    "\n",
    "def IRDelay(audio, impulses, sr=sr):\n",
    "    s = np.pad(audio, [0, audio.size])\n",
    "    s = fade(s, 1024)\n",
    "    \n",
    "    impulse_array = np.linspace(0.2, 0, num=impulses)\n",
    "    IRarray = np.array([])\n",
    "    size = int(s.size/impulses)-1\n",
    "    for i in range(impulses):\n",
    "\n",
    "        IRarray = np.append(IRarray, np.zeros(size))\n",
    "        IRarray = np.append(IRarray, impulse_array[i])\n",
    "\n",
    "    IRarray = sizecheck(IRarray, s)\n",
    "\n",
    "# transform to frequency domain\n",
    "    Y = scipy.fft.fft(s)\n",
    "    H = scipy.fft.fft(IRarray)\n",
    "\n",
    "# applying convolution\n",
    "    output = Y*H\n",
    "\n",
    "# back to time domain\n",
    "    output = np.real(scipy.fft.ifft(output))\n",
    "    return output\n",
    "\n",
    "\n",
    "def allpass(delay, gain):\n",
    "    b = np.zeros(delay)\n",
    "    b[0] = gain\n",
    "    b[delay-1] = 1\n",
    "    a = np.zeros(delay)\n",
    "    a[0] = 1\n",
    "    a[delay-1] = gain\n",
    "    return b,a\n",
    "\n",
    "\n",
    "def IIRReverb(audio, combq, delay1, gain1, delay2, gain2):\n",
    "    \n",
    "    \"\"\"A Schroeder reverb with four parallell comb filters and two cascading allpass filters.\n",
    "    audio = the audio that you will apply the reverb on\n",
    "    combq = Q factor of the comb filters. Play around but 20 is a good place to start\n",
    "    delay1 = the delay of the first allpass filter, try settings around 1000\n",
    "    gain1 = the gain of the first allpass, try anything between 0 and 1, closer to 1 \n",
    "    results in more volume in the reverb\n",
    "    delay2 = same as delay1 but for the second allpass filter. Try a different and slightly longer\n",
    "    value than delay1, for example 3500\n",
    "    gain2 = same as gain1 but for the second allpass filter\"\"\"\n",
    "    \n",
    "    s_tail = audio\n",
    "    s_tail = np.append(s_tail, np.zeros(48000))    \n",
    "    \n",
    "    # First comb filter\n",
    "    f0 = 200  \n",
    "    Q = combq  \n",
    "    b1,a1 = signal.iircomb(f0, Q, ftype='notch', fs=sr)\n",
    "    y1 = signal.lfilter(b1,a1,s_tail)\n",
    "    # Second comb filter \n",
    "    f0 = 300  \n",
    "    Q = combq  \n",
    "    b2,a2 = signal.iircomb(f0, Q, ftype='notch', fs=sr)\n",
    "    y2 = signal.lfilter(b2,a2,s_tail)\n",
    "    # Third comb filter\n",
    "    f0 = 400  \n",
    "    Q = combq  \n",
    "    b3,a3 = signal.iircomb(f0, Q, ftype='notch', fs=sr)\n",
    "    y3 = signal.lfilter(b3,a3,s_tail)\n",
    "    # Fourth comb filter\n",
    "    f0 = 500 \n",
    "    Q = combq  \n",
    "    b4,a4 = signal.iircomb(f0, Q, ftype='notch', fs=sr)\n",
    "    y4 = signal.lfilter(b4,a4,s_tail)\n",
    "    # computing up the parallell structure by adding them together (and scaling the amplitude)\n",
    "    comb_result = (y1 + y2 + y3 + y4)*0.2\n",
    "    # Designing the two allpass filters\n",
    "    b1,a1 = allpass(delay1, gain1)\n",
    "    b2,a2 = allpass(delay2, gain2)\n",
    "\n",
    "    # Convolving the coefficients to get the cascading structure\n",
    "    cascade_a = np.convolve(a1,a2)\n",
    "    cascade_b = np.convolve(b1,b2)\n",
    "\n",
    "    # Run the result from the comb parallell filters through the cascade of allpass filters\n",
    "    signal_output = signal.lfilter(cascade_b, cascade_a, comb_result)\n",
    "    # Merging wet with dry\n",
    "    #audio = np.append(audio, np.zeros([signal_output.size-audio.size]))\n",
    "    #output = ((signal_output * wet)+audio)*0.5\n",
    "    \n",
    "    \n",
    "    return signal_output\n",
    "\n",
    "\n",
    "def framecompressor(audio, frame_length, threshold, ratio, makeup):\n",
    "    \n",
    "    \"\"\"audio = audio to be compressed\n",
    "    frame_length = compression window, try 2048\n",
    "    threshold = what value of amplitude will cause the compressor to compress, try 0.3\n",
    "    ratio = a float from 0 to 1, 0 will result in total gainremoval in the middle\n",
    "    of the compressor window and 1 will result in no compression. \n",
    "    makeup = how much you multiply the audio with after compression. Try 1.1 or 1.2\n",
    "    \n",
    "    \"\"\"\n",
    "    window = signal.get_window('hann', frame_length)    \n",
    "    b = np.array([-ratio])\n",
    "    c = signal.convolve(window, b)\n",
    "    window = c + 1\n",
    "    \n",
    "    x = np.array([])\n",
    "    x = np.append(x, audio)\n",
    "    \n",
    "    for i in range(0, len(audio), int(frame_length*0.5)):\n",
    "                \n",
    "        s = x[i:i + frame_length]        \n",
    "        a = np.max(np.abs(s))\n",
    "        if a > threshold:            \n",
    "            s = s * window\n",
    "            x[i:i+frame_length] = s\n",
    "        \n",
    "    compressed = x * makeup\n",
    "    return compressed\n",
    "\n",
    "def reverse(audio):\n",
    "    s = np.flip(audio)\n",
    "    return s\n",
    "\n",
    "\n",
    "def softClipper(audio, drive, output=0.8):\n",
    "\n",
    "    \"\"\"audio = Source to be SoftClipped\n",
    "    drive = Amount of SoftClipping (Try between 10-40)\n",
    "    output = Output volume\n",
    "    \n",
    "    The signal is normalized before output attenuation for better control.\n",
    "    \"\"\"\n",
    "    \n",
    "    # Drive can not be set to 0\n",
    "    if drive == 0:\n",
    "        drive = 1\n",
    "    \n",
    "    piDivisor = 2 / np.pi\n",
    "    driver = np.arctan(audio * drive)\n",
    "    \n",
    "    softclip = piDivisor * driver\n",
    "    \n",
    "    normalized = softclip/np.max(softclip)\n",
    "    softClipped = normalized * output\n",
    "    \n",
    "    return softClipped\n",
    "\n",
    "def FIR_fft(signal, order, passband_hz, stopband_hz, pass_zero='lowpass', sr=44100):\n",
    "    \n",
    "    numtaps = order-1 # filter length (or number of tabs)\n",
    "    \n",
    "    wp = passband_hz/(sr/2) # passband edge normalized frequency\n",
    "    ws = stopband_hz/(sr/2) # stopband edge normalized frequency\n",
    "\n",
    "    freqs = [0.0, wp, ws, 1.0]\n",
    "    \n",
    "    if pass_zero == 'lowpass':\n",
    "        gains = [1.0, 1.0, 0.0, 0.0] # normalized gain values (0.5 = -3 dB)\n",
    "    elif pass_zero == 'highpass':\n",
    "        gains = [0.0, 0.0, 1.0, 1.0] # normalized gain values (0.5 = -3 dB)\n",
    "                \n",
    "    # Compute the FIR filter coefficients \n",
    "    h = sig.firwin2(numtaps, freqs, gains, window='hann') # compute FIR coefficients using firwin2 function\n",
    "    \n",
    "    # Design the FIR filter in the frequency domain \n",
    "    h_padded = np.pad(h,[0,len(signal)-len(h)]) # pad FIR coefficients with zeros in order to match the signal length\n",
    "    \n",
    "    # Apply the discrete Fourier Transform to the FIR filter (move to the frequency domain)\n",
    "    X = scipy.fft.fft(signal)\n",
    "    H = scipy.fft.fft(h_padded)\n",
    "    \n",
    "    Y = X*H # do the product of the DFT of the signal with the padded filter impulse response\n",
    "    \n",
    "    # Apply the inverse discrete Fourier Transform to the FIR filter (back to the time domain)\n",
    "    y = np.real(scipy.fft.ifft(Y))\n",
    "        \n",
    "    return y #signal filtered in the frequency domain"
   ]
  },
  {
   "cell_type": "code",
   "execution_count": null,
   "id": "c8cd67e3",
   "metadata": {},
   "outputs": [],
   "source": [
    "#b = IIRReverb(s, 0.9, 20, 800, 0.78, 1700, 0.68)\n",
    "#xx = IRDelay(s, 4)\n",
    "#first = framecompressor(s, 2048,0.45, 0.6, 1.7)\n",
    "#sd.play(first)\n",
    "#plt.plot(first)\n",
    "\n",
    "#sd.play(b)\n",
    "#sd.wait()\n",
    "#sd.play(xx)"
   ]
  },
  {
   "cell_type": "code",
   "execution_count": 10,
   "id": "dc796e1e",
   "metadata": {},
   "outputs": [],
   "source": [
    "# If we want to resynthesize anything these can come in handy\n",
    "\n",
    "\n",
    "def sawtooth_synth(freq, dur_ms, sr=sr, amp=1, phase=1):\n",
    "    t = np.arange(0, dur_ms/1000, 1/sr)\n",
    "    s = amp * signal.sawtooth(2 *np.pi*freq*t*phase)\n",
    "\n",
    "    return s\n",
    "\n",
    "def triangle_synth(freq, dur_ms, sr=sr, amp=1, phase=1, width=0.5):\n",
    "    t = np.arange(0, dur_ms/1000, 1/sr)\n",
    "    s = amp * signal.sawtooth(2 *np.pi*freq*t*phase)\n",
    "\n",
    "    return s\n",
    "\n",
    "def sine_synth(freq, dur_ms, sr=sr, amp=1, phase=1):\n",
    "    t = np.arange(0, dur_ms/1000, 1/sr)\n",
    "    s = amp*np.sin(2*np.pi*freq*t*phase)\n",
    "    \n",
    "    return s\n",
    "    \n",
    "\n",
    "def square_synth(freq, dur_ms, sr=sr, amp=1, phase=1):\n",
    "    t = np.arange(0, dur_ms/1000, 1/sr)\n",
    "    s = amp*signal.square(2*np.pi*freq*t*phase)\n",
    "    \n",
    "    return s\n",
    "\n",
    "\n",
    "# Repurposing the sine_synth as a LFO (for PWM).\n",
    "def myLFO(lfo_hz, dur_ms, lfo_depth):\n",
    "    if lfo_depth < 0.01:\n",
    "        lfo_depth = 0.01\n",
    "    elif lfo_depth > 0.99:\n",
    "        lfo_depth = 0.99\n",
    "    lfo = sine_synth(lfo_hz, dur_ms, amp=lfo_depth)\n",
    "    \n",
    "    return lfo\n",
    "\n",
    "\n",
    "def myPWM(freq, lfo_hz, dur_ms, lfo_depth=0.9):\n",
    "    t = np.linspace(0, 1, sr*(int(dur_ms/1000)), endpoint=False)\n",
    "    lfo = myLFO(lfo_hz, dur_ms, lfo_depth)\n",
    "    pwm = signal.square(2 * np.pi * freq * t, duty=(lfo + 1)/4)\n",
    "    \n",
    "    return pwm\n",
    "\n",
    "\n",
    "def chirp_sound(freq_start, freq_end, dur_ms, amp=1):\n",
    "    \n",
    "    t = np.arange(0, int((dur_ms/1000)*sr)) / sr\n",
    "    s = amp * signal.chirp(t, f0=freq_start, f1=freq_end, t1=dur_ms/1000, method='linear')\n",
    "\n",
    "    return s\n",
    "\n",
    "# Multiply the amp_envelope with your generated signal note by note \n",
    "# to get a nice smooth attack and decay\n",
    "\n",
    "def amp_envelope(dur_ms, sr=sr):\n",
    "    \n",
    "    t = np.arange(0, dur_ms/1000, 1/sr)\n",
    "    \n",
    "    # Splitting t up into 4 parts\n",
    "    attack_length = int(len(t) / 20)\n",
    "    decay_length = int(len(t) / 4)\n",
    "    sustain_length = int(len(t) / 2)\n",
    "    release_length = int(len(t) - (attack_length + decay_length + sustain_length))\n",
    "    \n",
    "    # Setting the start and stop amplitube values for the ramps\n",
    "    attack = np.linspace(0, 0.9, num=attack_length)\n",
    "    decay = np.linspace(0.9, 0.75, num=decay_length)\n",
    "    sustain = np.linspace(0.75, 0.6, num=sustain_length)\n",
    "    release = np.linspace(0.6, 0, num=release_length)\n",
    "    \n",
    "    # Putting them together in order\n",
    "    env = np.concatenate((attack, decay, sustain, release))\n",
    "    \n",
    "    return env"
   ]
  },
  {
   "cell_type": "markdown",
   "id": "ad9d2833",
   "metadata": {},
   "source": [
    "### PWM & SoftClip-test below (for deletion)"
   ]
  },
  {
   "cell_type": "code",
   "execution_count": 11,
   "id": "2cfdfcfd",
   "metadata": {},
   "outputs": [],
   "source": [
    "PWMtest = myPWM(330, 1, 2000, 0.95)\n",
    "\n",
    "sd.play(PWMtest)\n",
    "sd.wait()"
   ]
  },
  {
   "cell_type": "code",
   "execution_count": 12,
   "id": "e3f19588",
   "metadata": {
    "scrolled": false
   },
   "outputs": [
    {
     "data": {
      "image/png": "[encoded data removed]",
      "text/plain": [
       "<Figure size 432x288 with 1 Axes>"
      ]
     },
     "metadata": {
      "needs_background": "light"
     },
     "output_type": "display_data"
    },
    {
     "data": {
      "image/png": "[encoded data removed]",
      "text/plain": [
       "<Figure size 432x288 with 1 Axes>"
      ]
     },
     "metadata": {
      "needs_background": "light"
     },
     "output_type": "display_data"
    }
   ],
   "source": [
    "twosecsine = sine_synth(330, 2000, amp=0.8)\n",
    "\n",
    "sinedrive = softClipper(twosecsine, 15)\n",
    "\n",
    "# original\n",
    "plt.plot(twosecsine)\n",
    "plt.axis(ymin=-1, ymax=1, xmin=0, xmax=512)\n",
    "plt.show()\n",
    "sd.play(twosecsine)\n",
    "sd.wait()\n",
    "\n",
    "# softclipped\n",
    "plt.plot(sinedrive)\n",
    "plt.axis(ymin=-1, ymax=1, xmin=0, xmax=512)\n",
    "plt.show()\n",
    "sd.play(sinedrive)\n",
    "sd.wait()"
   ]
  },
  {
   "cell_type": "code",
   "execution_count": 13,
   "id": "c719f134",
   "metadata": {},
   "outputs": [
    {
     "data": {
      "image/png": "[encoded data removed]",
      "text/plain": [
       "<Figure size 432x288 with 1 Axes>"
      ]
     },
     "metadata": {
      "needs_background": "light"
     },
     "output_type": "display_data"
    }
   ],
   "source": [
    "musicdrive = softClipper(s, 30)\n",
    "\n",
    "plt.plot(musicdrive)\n",
    "plt.axis(ymin=-1, ymax=1)\n",
    "plt.show()\n",
    "sd.play(musicdrive)"
   ]
  },
  {
   "cell_type": "markdown",
   "id": "22128ef3",
   "metadata": {},
   "source": [
    "---"
   ]
  },
  {
   "cell_type": "code",
   "execution_count": 14,
   "id": "4cf1dd84",
   "metadata": {
    "scrolled": true
   },
   "outputs": [],
   "source": [
    "#loading midi and displaying info\n",
    "\n",
    "pm = pretty_midi.PrettyMIDI('./Files/py5.midi')\n"
   ]
  },
  {
   "cell_type": "code",
   "execution_count": 15,
   "id": "b1bb0770",
   "metadata": {},
   "outputs": [
    {
     "name": "stdout",
     "output_type": "stream",
     "text": [
      "221.53419267088816\n",
      "29\n",
      "[ 104727  209454  314181  418908  523635  628363  733090  837817  942544\n",
      " 1047271 1151998 1256726 1361453 1466180 1570907 1675634 1780361 1885089\n",
      " 1989816 2094543 2199270 2303997 2408724 2513452 2618179 2722906 2827633\n",
      " 2932360]\n"
     ]
    }
   ],
   "source": [
    "# Actual bpm is 110, this returns 221.5\n",
    "print(pm.estimate_tempo())\n",
    "\n",
    "downbeats_in_seconds = pm.get_downbeats()\n",
    "print(downbeats_in_seconds.size)\n",
    "downbeats_sample_time = downbeats_in_seconds*48000\n",
    "downbeats_sample_time = downbeats_sample_time. astype(int)\n",
    "downbeats_sample_time = downbeats_sample_time[1:]\n",
    "print(downbeats_sample_time)\n"
   ]
  },
  {
   "cell_type": "code",
   "execution_count": 16,
   "id": "01dfe143",
   "metadata": {},
   "outputs": [
    {
     "data": {
      "text/plain": [
       "3246546"
      ]
     },
     "execution_count": 16,
     "metadata": {},
     "output_type": "execute_result"
    }
   ],
   "source": [
    "s.size\n"
   ]
  },
  {
   "cell_type": "code",
   "execution_count": 19,
   "id": "4e6296ec",
   "metadata": {},
   "outputs": [
    {
     "name": "stdout",
     "output_type": "stream",
     "text": [
      "104727\n",
      "0\n"
     ]
    },
    {
     "name": "stderr",
     "output_type": "stream",
     "text": [
      "<ipython-input-9-a176091a82b7>:48: RuntimeWarning: invalid value encountered in true_divide\n",
      "  return output/np.max(output)\n"
     ]
    },
    {
     "name": "stdout",
     "output_type": "stream",
     "text": [
      "209454\n",
      "1\n",
      "314181\n",
      "2\n",
      "418908\n",
      "3\n",
      "523635\n",
      "0\n",
      "628363\n",
      "1\n",
      "733090\n",
      "2\n",
      "837817\n",
      "3\n",
      "942544\n",
      "0\n",
      "1047271\n",
      "1\n",
      "1151998\n",
      "2\n",
      "1256726\n",
      "3\n",
      "1361453\n",
      "0\n",
      "1466180\n",
      "1\n",
      "1570907\n",
      "2\n",
      "1675634\n",
      "3\n",
      "1780361\n",
      "0\n",
      "1885089\n",
      "1\n",
      "1989816\n",
      "2\n",
      "2094543\n",
      "3\n",
      "2199270\n",
      "0\n",
      "2303997\n",
      "1\n",
      "2408724\n",
      "2\n",
      "2513452\n",
      "3\n",
      "2618179\n",
      "0\n",
      "2722906\n",
      "1\n",
      "2827633\n",
      "2\n",
      "2932360\n",
      "3\n"
     ]
    },
    {
     "data": {
      "text/plain": [
       "[<matplotlib.lines.Line2D at 0x7fc30a4fc4c0>]"
      ]
     },
     "execution_count": 19,
     "metadata": {},
     "output_type": "execute_result"
    },
    {
     "data": {
      "image/png": "[encoded data removed]",
      "text/plain": [
       "<Figure size 432x288 with 1 Axes>"
      ]
     },
     "metadata": {
      "needs_background": "light"
     },
     "output_type": "display_data"
    }
   ],
   "source": [
    "# Have patience, it takes some time\n",
    "\n",
    "# Creating the result array we will add all signals back into\n",
    "result = np.zeros(s.size) \n",
    "\n",
    "# Temporary arrays used in the for loop\n",
    "segment = np.array([])\n",
    "seg = np.array([])\n",
    "\n",
    "# Setting parameters for the loop\n",
    "counter = 0\n",
    "current_beat = 0\n",
    "overlap = 0\n",
    "overlap_length = 1024\n",
    "\n",
    "\n",
    "# This is the main slicing and processing part of the program\n",
    "\n",
    "for i in downbeats_sample_time:\n",
    "    # To check computational time and where it struggles\n",
    "    print(i)\n",
    "    print(counter)\n",
    "    \n",
    "    counter += 1\n",
    "    \n",
    "    # Slicing the segment from current_beat to the sample position i\n",
    "    seg = s[current_beat:i]    \n",
    "    # adding fade ins and outs to the segment\n",
    "    segment = fade(seg, overlap_length)\n",
    "    \n",
    "    if counter == 1:\n",
    "        \n",
    "        segment = compressor(segment, 0.3, 1, 1)\n",
    "        seg_fx = IRDelay(segment, 8)\n",
    "        segment_padded = padder(segment, s, current_beat)\n",
    "        segment_fx = padder(seg_fx, s, current_beat)\n",
    "          \n",
    "        segment_padded = (segment_padded + segment_fx)\n",
    "                \n",
    "    elif counter == 2:\n",
    "        segment = compressor(segment, 0.3, 1, 1)\n",
    "        segment_padded = padder(segment, s, current_beat)\n",
    "        \n",
    "    elif counter == 3:\n",
    "        segment = compressor(segment, 0.3, 1, 1)\n",
    "        seg_fx = IIRReverb(segment, 20, 800, 0.78, 1700, 0.68)\n",
    "        segment_padded = padder(segment, s, current_beat) \n",
    "        segment_fx = padder(seg_fx, s, current_beat)\n",
    "          \n",
    "        segment_padded = (segment_padded + segment_fx)\n",
    "\n",
    "    elif counter == 4: \n",
    "\n",
    "        segment = compressor(segment, 0.3, 1, 1)\n",
    "        segment = reverse(segment)\n",
    "        segment_padded = padder(segment, s, current_beat)\n",
    "    \n",
    "    # updating the current beat for the next loop\n",
    "    current_beat = current_beat + seg.size    \n",
    "    segment_overlapped = segment_padded[overlap:segment_padded.size]\n",
    "    \n",
    "    # getting the size right again by adding zeros to the end:\n",
    "    segment_final = np.pad(segment_overlapped, [0, overlap])\n",
    "\n",
    "    # Increasing overlap for next round of for loop \n",
    "    overlap = overlap + overlap_length\n",
    "    \n",
    "    # Just making sure the sizes are allright \n",
    "    segment_final = sizecheck(segment_final, result)\n",
    "    \n",
    "    # Resetting the counter when it reaches 4\n",
    "    if counter == 4:\n",
    "        counter = 0\n",
    "    # pasting the segments back in, one by one\n",
    "    result = result + segment_final\n",
    "\n",
    "# Normalizing volume    \n",
    "#result = result/np.max(result)\n",
    "# Playing back the result\n",
    "    \n",
    "#final = framecompressor(result, 2048,0.40, 0.5, 1.7)   \n",
    "sd.play(result)\n",
    "plt.plot(result)\n",
    "\n"
   ]
  },
  {
   "cell_type": "code",
   "execution_count": null,
   "id": "a3465296",
   "metadata": {
    "scrolled": true
   },
   "outputs": [],
   "source": [
    "print(result.size)\n",
    "print(result.shape)\n",
    "print(s.size)\n",
    "print(s.shape)"
   ]
  },
  {
   "cell_type": "code",
   "execution_count": null,
   "id": "25565875",
   "metadata": {},
   "outputs": [],
   "source": [
    "print(type(seg))"
   ]
  },
  {
   "cell_type": "markdown",
   "id": "011baa54",
   "metadata": {},
   "source": [
    "## Visualizations\n",
    "\n",
    "#### Audacity (Peak + RMS)"
   ]
  },
  {
   "cell_type": "code",
   "execution_count": null,
   "id": "e3bbff27",
   "metadata": {},
   "outputs": [],
   "source": [
    "# Import features.py to access our RMS-function\n",
    "import features"
   ]
  },
  {
   "cell_type": "code",
   "execution_count": null,
   "id": "b946d2d4",
   "metadata": {},
   "outputs": [],
   "source": [
    "## A function to display in the style of Audacity\n",
    "\n",
    "def vizAudacity(audio):\n",
    "\n",
    "    frame_length = 512\n",
    "    \n",
    "    # Finding the RMS\n",
    "    rms_values = features.root_mean_square(audio, 2048, frame_length)\n",
    "    \n",
    "    # Making a waveform with the RMS values\n",
    "    rms_audio = []\n",
    "    count = 0\n",
    "    \n",
    "    for i in range(0, len(s), frame_length): #in your case 512\n",
    "        chunk = s[i:i + frame_length]\n",
    "        try:\n",
    "            a = rms_values[count]*chunk\n",
    "        except:\n",
    "            break\n",
    "        rms_audio = np.append(rms_audio, a)\n",
    "        count += 1\n",
    "    \n",
    "    # Choosing style and colors for the plot\n",
    "    plt.style.use('seaborn-white')\n",
    "    fig, ax = plt.subplots(figsize=(16, 4), facecolor='#e7e7e7', dpi=150.0)\n",
    "    ax.set_facecolor('#c0c0c0')\n",
    "\n",
    "    # Setting labels\n",
    "    ax.set_title(\"Audacity style waveform\", fontsize='24', weight='roman', y=1.02, family='monospace')\n",
    "    ax.set_xmargin(0.005)\n",
    "\n",
    "    # Plotting the outer waveform (Peak/Amplitude)\n",
    "    ax.plot(audio, color='#3132c1')\n",
    "\n",
    "    # Plotting the inner waveform (RMS)\n",
    "    ax.plot(rms_audio, color='#6464d5')\n",
    "\n",
    "    # Generating lists for showing x-axis ticks every 15 sec,\n",
    "    # by finding the floor value of (length // 15) + 1 for the np.arange().\n",
    "    tick_stop = ((len(s)/sr)//15)+1\n",
    "    s_ticks_value = np.arange(sr*15,sr*15*tick_stop,sr*15)\n",
    "    s_ticks = np.arange(int(15),int(15*tick_stop),15)\n",
    "\n",
    "    # Showing minutes instead of samples\n",
    "    ax.set_xticks(s_ticks_value)\n",
    "    ax.set_xticklabels(s_ticks)\n",
    "    ax.axis(ymin=-1, ymax=1)\n",
    "\n",
    "    # Displaying the plot\n",
    "    fig.tight_layout()\n",
    "    plt.show()"
   ]
  },
  {
   "cell_type": "code",
   "execution_count": null,
   "id": "f643dd98",
   "metadata": {
    "scrolled": false
   },
   "outputs": [],
   "source": [
    "vizAudacity(s)"
   ]
  },
  {
   "cell_type": "markdown",
   "id": "ecaa49d2",
   "metadata": {},
   "source": [
    "#### Traktor/Serato (Colored by Spectral Centroid)\n",
    "```Colored Waveforms\n",
    "\n",
    "Colors in the waveform show the frequency of the sound:\n",
    "bass is red, mids are green, treble is blue.\n",
    "                                        (www.serato.com)\n",
    "```\n"
   ]
  },
  {
   "cell_type": "code",
   "execution_count": null,
   "id": "a7286111",
   "metadata": {},
   "outputs": [],
   "source": [
    "## A function to display in the style of Serato/Traktor\n",
    "\n",
    "def vizSerato(audio):\n",
    "\n",
    "    # Finding the Spectral Centroid\n",
    "    #audio_centroid = features.spectral_centroid(audio, 2048, 512)\n",
    "    audio_centroid = librosa.feature.spectral_centroid(audio, sr=sr, n_fft=2048, hop_length=512)\n",
    "    \n",
    "    # Choosing style and colors for the plot\n",
    "    plt.style.use('seaborn-white')\n",
    "    fig, ax = plt.subplots(figsize=(16, 4), facecolor='#373737', dpi=150.0)\n",
    "    ax.set_facecolor('#000000')\n",
    "\n",
    "    # Setting labels\n",
    "    ax.set_title(\"Serato/Traktor style waveform\", fontsize='24', weight='roman', y=1.02, family='monospace', color='#f4f4f4')\n",
    "    ax.set_xmargin(0.005)\n",
    "\n",
    "    # Plotting the outer waveform (Peak/Amplitude)\n",
    "    ax.plot(audio, color='#c94c87')\n",
    "\n",
    "    # Generating lists for showing x-axis ticks every 15 sec,\n",
    "    # by finding the floor value of (length // 15) + 1 for the np.arange().\n",
    "    tick_stop = ((len(s)/sr)//15)+1\n",
    "    s_ticks_value = np.arange(0,sr*15*tick_stop,sr*15)\n",
    "    s_ticks = np.arange(int(0),int(15*tick_stop),15)\n",
    "\n",
    "    # Showing minutes instead of samples\n",
    "    ax.set_xticks(s_ticks_value)\n",
    "    ax.set_xticklabels(s_ticks, color='#f4f4f4')\n",
    "    ax.tick_params(axis='y', colors='#f4f4f4')\n",
    "    ax.axis(ymin=-1, ymax=1)\n",
    "\n",
    "    # Displaying the plot\n",
    "    fig.tight_layout()\n",
    "    plt.show()"
   ]
  },
  {
   "cell_type": "code",
   "execution_count": null,
   "id": "307390a1",
   "metadata": {
    "scrolled": true
   },
   "outputs": [],
   "source": [
    "vizSerato(s)"
   ]
  },
  {
   "cell_type": "markdown",
   "id": "27190a08",
   "metadata": {},
   "source": [
    "## Might be something for the Serato colorplotting below:"
   ]
  },
  {
   "cell_type": "code",
   "execution_count": null,
   "id": "8729a561",
   "metadata": {},
   "outputs": [],
   "source": [
    "import numpy as np\n",
    "import matplotlib.pyplot as plt\n",
    "from matplotlib.collections import LineCollection\n",
    "from matplotlib.colors import ListedColormap, BoundaryNorm\n",
    "\n",
    "x = np.linspace(0, 3 * np.pi, 500)\n",
    "y = np.sin(x)\n",
    "dydx = np.cos(0.5 * (x[:-1] + x[1:]))  # first derivative\n",
    "\n",
    "# Create a set of line segments so that we can color them individually\n",
    "# This creates the points as a N x 1 x 2 array so that we can stack points\n",
    "# together easily to get the segments. The segments array for line collection\n",
    "# needs to be (numlines) x (points per line) x 2 (for x and y)\n",
    "points = np.array([x, y]).T.reshape(-1, 1, 2)\n",
    "segments = np.concatenate([points[:-1], points[1:]], axis=1)\n",
    "\n",
    "fig, axs = plt.subplots(2, 1, sharex=True, sharey=True)\n",
    "\n",
    "# Create a continuous norm to map from data points to colors\n",
    "norm = plt.Normalize(dydx.min(), dydx.max())\n",
    "lc = LineCollection(segments, cmap='viridis', norm=norm)\n",
    "# Set the values used for colormapping\n",
    "lc.set_array(dydx)\n",
    "lc.set_linewidth(2)\n",
    "line = axs[0].add_collection(lc)\n",
    "fig.colorbar(line, ax=axs[0])\n",
    "\n",
    "# Use a boundary norm instead\n",
    "cmap = ListedColormap(['r', 'g', 'b'])\n",
    "norm = BoundaryNorm([-1, -0.5, 0.5, 1], cmap.N)\n",
    "lc = LineCollection(segments, cmap=cmap, norm=norm)\n",
    "lc.set_array(dydx)\n",
    "lc.set_linewidth(2)\n",
    "line = axs[1].add_collection(lc)\n",
    "fig.colorbar(line, ax=axs[1])\n",
    "\n",
    "axs[0].set_xlim(x.min(), x.max())\n",
    "axs[0].set_ylim(-1.1, 1.1)\n",
    "plt.show()"
   ]
  }
 ],
 "metadata": {
  "kernelspec": {
   "display_name": "Python 3",
   "language": "python",
   "name": "python3"
  },
  "language_info": {
   "codemirror_mode": {
    "name": "ipython",
    "version": 3
   },
   "file_extension": ".py",
   "mimetype": "text/x-python",
   "name": "python",
   "nbconvert_exporter": "python",
   "pygments_lexer": "ipython3",
   "version": "3.8.8"
  }
 },
 "nbformat": 4,
 "nbformat_minor": 5
}
