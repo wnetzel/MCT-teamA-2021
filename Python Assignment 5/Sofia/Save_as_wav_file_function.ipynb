{
 "cells": [
  {
   "cell_type": "code",
   "execution_count": null,
   "id": "601a7acd",
   "metadata": {},
   "outputs": [],
   "source": [
    "import pandas as pd\n",
    "import soundfile as sf\n",
    "from soundfile import write\n",
    "\n",
    "\n",
    "def saveaswav(signal_array, sr):\n",
    "    csv = pd.read_csv('./meta.csv')\n",
    "    df = pd.DataFrame(csv)\n",
    "    names = [] #list where to store the '_filtered.wav' names\n",
    "    \n",
    "    for i in range(df['filename'].size):\n",
    "        if df['filename'][i].endswith('.wav') == True:\n",
    "            df['filename'][i] = df['filename'][i].replace('.wav', '_filtered.wav')\n",
    "            names.append(df['filename'][i])\n",
    "        \n",
    "        sf.write(names[i], signal_array, sr)\n",
    "        print('File saved as: {}'.format(names[i]))"
   ]
  }
 ],
 "metadata": {
  "kernelspec": {
   "display_name": "Python 3",
   "language": "python",
   "name": "python3"
  },
  "language_info": {
   "codemirror_mode": {
    "name": "ipython",
    "version": 3
   },
   "file_extension": ".py",
   "mimetype": "text/x-python",
   "name": "python",
   "nbconvert_exporter": "python",
   "pygments_lexer": "ipython3",
   "version": "3.8.8"
  }
 },
 "nbformat": 4,
 "nbformat_minor": 5
}
