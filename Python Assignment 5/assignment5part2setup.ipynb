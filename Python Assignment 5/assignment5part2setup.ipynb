{
 "cells": [
  {
   "cell_type": "code",
   "execution_count": 1,
   "id": "0566937c",
   "metadata": {},
   "outputs": [],
   "source": [
    "import numpy as np\n",
    "import librosa\n",
    "import pretty_midi\n",
    "\n",
    "\n",
    "import matplotlib.pyplot as plt\n",
    "import IPython.display as ipd\n",
    "import sounddevice as sd\n",
    "\n",
    "import librosa.display\n",
    "import math\n",
    "import scipy\n",
    "import time\n",
    "from scipy import signal"
   ]
  },
  {
   "cell_type": "code",
   "execution_count": 2,
   "id": "20b71a51",
   "metadata": {},
   "outputs": [],
   "source": [
    "# Idea for the creative part, enabling us to all contribute individually\n",
    "\n",
    "sr = 48000"
   ]
  },
  {
   "cell_type": "code",
   "execution_count": 3,
   "id": "bc44d3a8",
   "metadata": {},
   "outputs": [
    {
     "data": {
      "text/plain": [
       "[<matplotlib.lines.Line2D at 0x7f99b3a383d0>]"
      ]
     },
     "execution_count": 3,
     "metadata": {},
     "output_type": "execute_result"
    },
    {
     "data": {
      "image/png": "[encoded data removed]",
      "text/plain": [
       "<Figure size 432x288 with 1 Axes>"
      ]
     },
     "metadata": {
      "needs_background": "light"
     },
     "output_type": "display_data"
    }
   ],
   "source": [
    "# Importing audio file\n",
    "\n",
    "s, r = librosa.load('./Files/Loop.wav', sr=sr)\n",
    "\n",
    "# Importing MIDI\n",
    "\n",
    "#pm = pretty_midi.PrettyMIDI('filename.mid')\n",
    "plt.plot(s)"
   ]
  },
  {
   "cell_type": "code",
   "execution_count": 114,
   "id": "3fa63f09",
   "metadata": {},
   "outputs": [],
   "source": [
    "\n",
    "# Fade in and out function to avoid clips when we merge segments\n",
    "\n",
    "def fade(segment, fadesize):\n",
    "    fades = np.array([])\n",
    "    fadesize = fadesize\n",
    "    if segment.size <= (fadesize*2):\n",
    "        fadesize = int(segment.size / 10)\n",
    "        midpart = np.ones(segment.size - (int(fadesize*2)))\n",
    "        fadein = np.linspace(0,1,num=fadesize)\n",
    "        fadeout = np.linspace(1,0,num=fadesize)\n",
    "        fades = np.concatenate((fadein, midpart, fadeout))\n",
    "        \n",
    "    else:         \n",
    "        midpart = np.ones(segment.size - (int(fadesize*2)))   \n",
    "        fadein = np.linspace(0,1,num=fadesize)\n",
    "        fadeout = np.linspace(1,0,num=fadesize)\n",
    "        fades = np.concatenate((fadein, midpart, fadeout))\n",
    "        \n",
    "    y = segment * fades\n",
    "    \n",
    "    return y\n",
    "\n",
    "\n",
    "def sizecheck(segment, result):\n",
    "    if segment.size != result.size:\n",
    "        if segment.size > result.size:\n",
    "            diff = segment.size-result.size            \n",
    "            segment = np.delete(segment_final, diff)\n",
    "            \n",
    "        elif result.size > segment.size:\n",
    "            zeros= np.zeros(result.size - segment.size)\n",
    "            \n",
    "            segment = np.concatenate((segment, zeros))\n",
    "    else:\n",
    "        pass\n",
    "    \n",
    "    return segment"
   ]
  },
  {
   "cell_type": "code",
   "execution_count": 74,
   "id": "bf1bfe03",
   "metadata": {},
   "outputs": [],
   "source": [
    "# Just added a compressor function because I wanted to try it out. Can be used for processing \n",
    "\n",
    "def compressor(audio, threshold, makeup, smoothness):\n",
    "    x = np.array([])\n",
    "    x = np.append(x, audio)\n",
    "    for i in range(smoothness):\n",
    "        index = 0        \n",
    "        for i in x:        \n",
    "            if np.abs(i) >= threshold + 0.3:\n",
    "                x[index] = i * 0.85                 \n",
    "            elif np.abs(i) >= threshold + 0.2:\n",
    "                x[index] = i * 0.90            \n",
    "            elif np.abs(i) >= threshold + 0.1:\n",
    "                x[index] = i * 0.95            \n",
    "            elif np.abs(i) >= threshold:\n",
    "                x[index] = i * 0.99            \n",
    "            else:\n",
    "                x[index] = i\n",
    "            index += 1\n",
    "            \n",
    "    y = x * (1+makeup)\n",
    "    \n",
    "    return y\n",
    "\n",
    "\n",
    "# Try impulses between 2 and 10\n",
    "def IRDelay(audio, impulses,sr=sr):    \n",
    "    \n",
    "    impulse_array = np.linspace(0.2, 0, num=impulses)\n",
    "    IRarray = np.array([])\n",
    "    size = int(audio.size/impulses)-1\n",
    "    for i in range(impulses):\n",
    "    \n",
    "        IRarray = np.append(IRarray, np.zeros(size))\n",
    "        IRarray = np.append(IRarray, impulse_array[i]) \n",
    "    \n",
    "    # Y =signal.fft.sfft(audio)\n",
    "    # H = signal.fft.sfft(IRarray)\n",
    "    # store = Y*H\n",
    "    # audio = signal.fft.isfft(store) \n",
    "    x = np.convolve(audio, IRarray)\n",
    "    audio = np.append(audio, np.zeros([x.size-audio.size]))\n",
    "    s = (audio+(x*0.75)*0.5)\n",
    "    \n",
    "    return x\n",
    "\n",
    "def allpass(delay, gain):\n",
    "    b = np.zeros(delay)\n",
    "    b[0] = gain\n",
    "    b[delay-1] = 1\n",
    "    a = np.zeros(delay)\n",
    "    a[0] = 1\n",
    "    a[delay-1] = gain\n",
    "    return b,a\n",
    "\n",
    "\n",
    "def IIRReverb(audio, wet, combq, delay1, gain1, delay2, gain2):\n",
    "    s_tail = audio\n",
    "    s_tail = np.append(s_tail, np.zeros(48000))    \n",
    "    \n",
    "    # First comb filter\n",
    "    f0 = 200  \n",
    "    Q = combq  \n",
    "    b1,a1 = signal.iircomb(f0, Q, ftype='notch', fs=sr)\n",
    "    y1 = signal.lfilter(b1,a1,s_tail)\n",
    "    # Second comb filter \n",
    "    f0 = 300  \n",
    "    Q = combq  \n",
    "    b2,a2 = signal.iircomb(f0, Q, ftype='notch', fs=sr)\n",
    "    y2 = signal.lfilter(b2,a2,s_tail)\n",
    "    # Third comb filter\n",
    "    f0 = 400  \n",
    "    Q = combq  \n",
    "    b3,a3 = signal.iircomb(f0, Q, ftype='notch', fs=sr)\n",
    "    y3 = signal.lfilter(b3,a3,s_tail)\n",
    "    # Fourth comb filter\n",
    "    f0 = 500 \n",
    "    Q = combq  \n",
    "    b4,a4 = signal.iircomb(f0, Q, ftype='notch', fs=sr)\n",
    "    y4 = signal.lfilter(b4,a4,s_tail)\n",
    "    # computing up the parallell structure by adding them together (and scaling the amplitude)\n",
    "    comb_result = (y1 + y2 + y3 + y4)*0.2\n",
    "    # Designing the two allpass filters\n",
    "    b1,a1 = allpass(delay1, gain1)\n",
    "    b2,a2 = allpass(delay2, gain2)\n",
    "\n",
    "    # Convolving the coefficients to get the cascading structure\n",
    "    cascade_a = np.convolve(a1,a2)\n",
    "    cascade_b = np.convolve(b1,b2)\n",
    "\n",
    "    # Run the result from the comb parallell filters through the cascade of allpass filters\n",
    "    signal_output = signal.lfilter(cascade_b, cascade_a, comb_result)\n",
    "    # Merging wet with dry\n",
    "    #audio = np.append(audio, np.zeros([signal_output.size-audio.size]))\n",
    "    #output = ((signal_output * wet)+audio)*0.5\n",
    "    \n",
    "    \n",
    "    return signal_output\n",
    "\n",
    "\n",
    "def framecompressor(audio, frame_length, threshold, ratio, makeup):\n",
    "    window = signal.get_window('hann', frame_length)    \n",
    "    b = np.array([-ratio])\n",
    "    c = signal.convolve(window, b)\n",
    "    window = c + 1\n",
    "    \n",
    "    x = np.array([])\n",
    "    x = np.append(x, audio)\n",
    "    \n",
    "    for i in range(0, len(audio), int(frame_length*0.5)):\n",
    "                \n",
    "        s = x[i:i + frame_length]        \n",
    "        a = np.max(np.abs(s))\n",
    "        if a > threshold:            \n",
    "            s = s * window\n",
    "            x[i:i+frame_length] = s\n",
    "        \n",
    "    compressed = x * makeup\n",
    "    return compressed"
   ]
  },
  {
   "cell_type": "code",
   "execution_count": 45,
   "id": "c8cd67e3",
   "metadata": {},
   "outputs": [],
   "source": [
    "#b = IIRReverb(s, 0.9, 20, 800, 0.78, 1700, 0.68)\n",
    "#xx = IRDelay(s, 4)\n",
    "#first = framecompressor(s, 2048,0.45, 0.6, 1.7)\n",
    "#sd.play(first)\n",
    "#plt.plot(first)\n",
    "\n",
    "#sd.play(b)\n",
    "#sd.wait()\n",
    "#sd.play(xx)"
   ]
  },
  {
   "cell_type": "code",
   "execution_count": null,
   "id": "bcfe7228",
   "metadata": {},
   "outputs": [],
   "source": [
    "# If we want to resynthesize anything these can come in handy\n",
    "\n",
    "def sawtooth_synth(freq, dur_ms, sr=sr, amp=1, phase=1):\n",
    "    t = np.arange(0, dur_ms/1000, 1/sr)\n",
    "    s = amp * signal.sawtooth(2 *np.pi*freq*t*phase)\n",
    "\n",
    "    return s\n",
    "\n",
    "def triangle_synth(freq, dur_ms, sr=sr, amp=1, phase=1, width=0.5):\n",
    "    t = np.arange(0, dur_ms/1000, 1/sr)\n",
    "    s = amp * signal.sawtooth(2 *np.pi*freq*t*phase)\n",
    "\n",
    "    return s\n",
    "\n",
    "def sine_synth(freq, dur_ms, sr=sr, amp=1, phase=1):\n",
    "    t = np.arange(0, dur_ms/1000, 1/sr)\n",
    "    s = amp*np.sin(2*np.pi*freq*t*phase)\n",
    "    \n",
    "    return s\n",
    "    \n",
    "def square_synth(freq, dur_ms, sr=sr, amp=1, phase=1):\n",
    "    t = np.arange(0, dur_ms/1000, 1/sr)\n",
    "    s = amp*signal.square(2*np.pi*freq*t*phase)\n",
    "    \n",
    "    return s\n",
    "\n",
    "def chirp_sound(freq_start, freq_end, dur_ms, amp=1):\n",
    "    \n",
    "    t = np.arange(0, int((dur_ms/1000)*sr)) / sr\n",
    "    s = amp * signal.chirp(t, f0=freq_start, f1=freq_end, t1=dur_ms/1000, method='linear')\n",
    "\n",
    "    return s\n",
    "\n",
    "# Multiply the amp_envelope with your generated signal note by note \n",
    "# to get a nice smooth attack and decay\n",
    "\n",
    "def amp_envelope(dur_ms, sr=sr):\n",
    "    \n",
    "    t = np.arange(0, dur_ms/1000, 1/sr)\n",
    "    \n",
    "    # Splitting t up into 4 parts\n",
    "    attack_length = int(len(t) / 20)\n",
    "    decay_length = int(len(t) / 4)\n",
    "    sustain_length = int(len(t) / 2)\n",
    "    release_length = int(len(t) - (attack_length + decay_length + sustain_length))\n",
    "    \n",
    "    # Setting the start and stop amplitube values for the ramps\n",
    "    attack = np.linspace(0, 0.9, num=attack_length)\n",
    "    decay = np.linspace(0.9, 0.75, num=decay_length)\n",
    "    sustain = np.linspace(0.75, 0.6, num=sustain_length)\n",
    "    release = np.linspace(0.6, 0, num=release_length)\n",
    "    \n",
    "    # Putting them together in order\n",
    "    env = np.concatenate((attack, decay, sustain, release))\n",
    "    \n",
    "    return env"
   ]
  },
  {
   "cell_type": "code",
   "execution_count": 76,
   "id": "6230ed6c",
   "metadata": {},
   "outputs": [],
   "source": [
    "s, r = librosa.load('./Files/Violin.wav', sr=sr)"
   ]
  },
  {
   "cell_type": "code",
   "execution_count": 106,
   "id": "e080cf21",
   "metadata": {},
   "outputs": [
    {
     "name": "stdout",
     "output_type": "stream",
     "text": [
      "[47035, 94071, 141107, 188143, 235179, 282215, 329251, 376287, 423323, 470358, 517394, 564430, 611466, 658502, 705538, 752574, 799610, 846646]\n"
     ]
    }
   ],
   "source": [
    "# Making a random list to have something to use for slicing in the for loop. \n",
    "# Here we need something picked up from a midi file\n",
    "# Need to skip the zero\n",
    "iterative = np.linspace(0, s.size, 20)\n",
    "my_list = []\n",
    "for number in iterative:\n",
    "    if number == 0:\n",
    "        continue\n",
    "    else:\n",
    "        my_list.append(int(number))\n",
    "# To avoid issues in the last segment    \n",
    "my_list = my_list[0:-1]\n",
    "print(my_list)"
   ]
  },
  {
   "cell_type": "code",
   "execution_count": 96,
   "id": "01dfe143",
   "metadata": {},
   "outputs": [
    {
     "data": {
      "text/plain": [
       "893682"
      ]
     },
     "execution_count": 96,
     "metadata": {},
     "output_type": "execute_result"
    }
   ],
   "source": [
    "s.size\n"
   ]
  },
  {
   "cell_type": "code",
   "execution_count": 160,
   "id": "4e6296ec",
   "metadata": {},
   "outputs": [
    {
     "name": "stdout",
     "output_type": "stream",
     "text": [
      "47035\n",
      "1\n",
      "94071\n",
      "2\n",
      "141107\n",
      "3\n",
      "188143\n",
      "4\n",
      "235179\n",
      "1\n",
      "282215\n",
      "2\n",
      "329251\n",
      "3\n",
      "376287\n",
      "4\n",
      "423323\n",
      "1\n",
      "470358\n",
      "2\n",
      "517394\n",
      "3\n",
      "564430\n",
      "4\n",
      "611466\n",
      "1\n",
      "658502\n",
      "2\n",
      "705538\n",
      "3\n",
      "752574\n",
      "4\n",
      "799610\n",
      "1\n",
      "846646\n",
      "2\n"
     ]
    },
    {
     "data": {
      "text/plain": [
       "[<matplotlib.lines.Line2D at 0x7f997d1c54f0>]"
      ]
     },
     "execution_count": 160,
     "metadata": {},
     "output_type": "execute_result"
    },
    {
     "data": {
      "image/png": "[encoded data removed]",
      "text/plain": [
       "<Figure size 432x288 with 1 Axes>"
      ]
     },
     "metadata": {
      "needs_background": "light"
     },
     "output_type": "display_data"
    }
   ],
   "source": [
    "# Creating the result array I will add all signals back into\n",
    "result = np.zeros(s.size) \n",
    "\n",
    "# Temporary arrays used in the for loop\n",
    "segment = np.array([])\n",
    "seg = np.array([])\n",
    "\n",
    "# Making the counter\n",
    "counter = 0\n",
    "current_beat = 0\n",
    "overlap = 0\n",
    "overlap_length = 2048\n",
    "\n",
    "# Just iterating through a random list, we'll use info from the midifile for this \n",
    "\n",
    "# This is the main slicing and processing part of the program\n",
    "\n",
    "for i in my_list:\n",
    "    # To check computational time and where it struggles\n",
    "    print(i)\n",
    "    print(counter)\n",
    "    \n",
    "    counter += 1\n",
    "    \n",
    "    # Slicing the segment from current_beat to the sample position i\n",
    "    seg = s[current_beat:i]    \n",
    "    # adding fade ins and outs to the segment\n",
    "    segment = fade(seg, overlap_length)\n",
    "    if counter == 1:\n",
    "        segment = compressor(segment, 0.3, 1.2, 1)\n",
    "        seg_fx = IRDelay(segment, 4)\n",
    "        segment_padded = np.pad(segment,[current_beat, s.size-(current_beat+segment.size)]) \n",
    "        segment_fx = np.pad(seg_fx,[current_beat, s.size-(current_beat+seg_fx.size)])\n",
    "          \n",
    "        segment_padded = (segment_padded + segment_fx)\n",
    "        \n",
    "    elif counter == 2:\n",
    "        segment = compressor(segment, 0.3, 1.2, 1)\n",
    "        segment_padded = np.pad(segment,[current_beat, s.size-(current_beat+segment.size)])\n",
    "    elif counter == 3:\n",
    "        segment = compressor(segment, 0.3, 1.2, 1)\n",
    "        seg_fx = IIRReverb(segment, 0.9, 20, 800, 0.78, 1700, 0.68)\n",
    "        segment_padded = np.pad(segment,[current_beat, s.size-(current_beat+segment.size)]) \n",
    "        segment_fx = np.pad(seg_fx,[current_beat, s.size-(current_beat+seg_fx.size)])\n",
    "          \n",
    "        segment_padded = (segment_padded + segment_fx)\n",
    "\n",
    "    elif counter == 4: \n",
    "#        # Arvid processing goes in here\n",
    "        segment = compressor(segment, 0.3, 1.2, 1)\n",
    "        segment_padded = np.pad(segment,[current_beat, s.size-(current_beat+segment.size)])\n",
    "#        segment_padded = IIRReverb(segment_padded, 20, 1000, 0.8, 3400, 0.7)\n",
    "    \n",
    "    # Setting overlap to for example 100 samples, just some ideas for the overlap\n",
    "    \n",
    "    # updating the current beat for the next loop\n",
    "    current_beat = current_beat + seg.size\n",
    "    \n",
    "    segment_overlapped = segment_padded[overlap:segment_padded.size]\n",
    "    \n",
    "    # getting the size right again by adding zeros to the end:\n",
    "    segment_final = np.pad(segment_overlapped, [0, overlap])\n",
    "    # Increasing overlap for next round of for loop \n",
    "    overlap = overlap + overlap_length\n",
    "    \n",
    "    # Just making sure the sizes are allright \n",
    "    segment_final = sizecheck(segment_final, result)\n",
    "    \n",
    "    # Resetting the counter when it reaches 4\n",
    "    if counter == 4:\n",
    "        counter = 0\n",
    "    # pasting the segments back in, one by one\n",
    "    result = result + segment_final\n",
    "    \n",
    "# Playing back the result\n",
    "    \n",
    "#final = framecompressor(result, 2048,0.40, 0.5, 1.7)   \n",
    "sd.play(result)\n",
    "plt.plot(result)\n",
    "\n"
   ]
  },
  {
   "cell_type": "code",
   "execution_count": 161,
   "id": "a3465296",
   "metadata": {
    "scrolled": true
   },
   "outputs": [
    {
     "name": "stdout",
     "output_type": "stream",
     "text": [
      "893682\n",
      "(893682,)\n",
      "893682\n",
      "(893682,)\n"
     ]
    }
   ],
   "source": [
    "print(result.size)\n",
    "print(result.shape)\n",
    "print(s.size)\n",
    "print(s.shape)"
   ]
  },
  {
   "cell_type": "code",
   "execution_count": null,
   "id": "f9b6b9e3",
   "metadata": {},
   "outputs": [],
   "source": []
  }
 ],
 "metadata": {
  "kernelspec": {
   "display_name": "Python 3",
   "language": "python",
   "name": "python3"
  },
  "language_info": {
   "codemirror_mode": {
    "name": "ipython",
    "version": 3
   },
   "file_extension": ".py",
   "mimetype": "text/x-python",
   "name": "python",
   "nbconvert_exporter": "python",
   "pygments_lexer": "ipython3",
   "version": "3.8.8"
  }
 },
 "nbformat": 4,
 "nbformat_minor": 5
}
