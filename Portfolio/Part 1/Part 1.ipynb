{
 "cells": [
  {
   "cell_type": "code",
   "execution_count": null,
   "id": "2cd3cd46",
   "metadata": {},
   "outputs": [],
   "source": [
    "import numpy as np\n",
    "import librosa\n",
    "import librosa.display\n",
    "import matplotlib.pyplot as plt\n",
    "import pandas as pd\n",
    "import os\n",
    "import scipy\n",
    "import scipy.signal as sig\n",
    "import random\n",
    "import math\n",
    "import soundfile as sf\n",
    "import time"
   ]
  },
  {
   "cell_type": "markdown",
   "id": "b8fd2301",
   "metadata": {},
   "source": [
    "## Part 1 \n",
    "For each file, compute the overall average of three audio features: RMS, spectral centroid, and spectral bandwidth.\n",
    "You can use a library (e.g. librosa) to compute the spectral bandwidth, while you have to write functions that compute RMS and spectral centroid starting from their definition.\n",
    "Since you are interested in the average, there is no need to write functions that performs the block analysis (i.e. over small windows/frames) but you can compute the features directly over the entire file.\n",
    "Compare and display (numerically) the output of your functions vs librosa and explain minor differences if any."
   ]
  },
  {
   "cell_type": "code",
   "execution_count": null,
   "id": "9f581733",
   "metadata": {},
   "outputs": [],
   "source": [
    "sr = 44100\n",
    "audio_file = 'audio/Loop.wav'\n",
    "\n",
    "# Load file with librosa\n",
    "x, sr = librosa.load(audio_file, sr=44100, mono=True)"
   ]
  },
  {
   "cell_type": "markdown",
   "id": "f6430b5f",
   "metadata": {},
   "source": [
    "**Root Mean Square**\n",
    "\n",
    "Compute root-mean-square (RMS) value from scratch with the following formula, for each frame of the audio samples."
   ]
  },
  {
   "cell_type": "markdown",
   "id": "2c3c782d",
   "metadata": {},
   "source": [
    "<font size=\"5\"> $RMS =$ $\\sqrt{{\\frac{1} {n}} \\sum_{i} x_{i}^2}$ </font>"
   ]
  },
  {
   "cell_type": "markdown",
   "id": "14f5496b",
   "metadata": {},
   "source": [
    "- $n$ is the frame length in samples\n",
    "- $x_{i} =$ Each frame"
   ]
  },
  {
   "cell_type": "code",
   "execution_count": null,
   "id": "dc3c9db9",
   "metadata": {},
   "outputs": [],
   "source": [
    "def root_mean_square(audio, frame_length, hop_length):\n",
    "    \n",
    "    # Pad with the reflection of the signal so that the frames are centered \n",
    "    # Padding is achieved by mirroring on the first and last values of the signal with frame_length // 2 samples     \n",
    "    signal = np.pad(audio, int(frame_length // 2), mode='reflect')\n",
    "    \n",
    "    rms = []\n",
    "    \n",
    "    for i in range(0, audio.shape[0], hop_length):\n",
    "        \n",
    "        rms_formula = np.sqrt(1 / frame_length * np.sum(signal[i:i+frame_length]**2))        \n",
    "        rms.append(rms_formula)\n",
    "        \n",
    "    return np.array(rms)  "
   ]
  },
  {
   "cell_type": "markdown",
   "id": "82fc2ead",
   "metadata": {},
   "source": [
    "**Spectral Centroid**\n",
    "\n",
    "As the name suggests, a spectral centroid is the location of the centre of mass of the spectrum. Since the audio files are digital signals and the spectral centroid is a measure that can be useful in the characterization of the spectrum of the audio file signal."
   ]
  },
  {
   "cell_type": "markdown",
   "id": "46375e80",
   "metadata": {},
   "source": [
    "<font size=\"5\">$Centroid = \\frac{\\sum_{n=0}^{N-1} f(n) x(n)} {\\sum_{n=0}^{N-1} x(n)} $</font>"
   ]
  },
  {
   "cell_type": "markdown",
   "id": "4f747af9",
   "metadata": {},
   "source": [
    "- $x(n)$ is the weighted frequency value, or magnitude \n",
    "- $n$ is the bin number  \n",
    "- $f(n)$ is the center frequency of the frequency bin"
   ]
  },
  {
   "cell_type": "code",
   "execution_count": null,
   "id": "7ccf4add",
   "metadata": {},
   "outputs": [],
   "source": [
    "def spectral_centroid(audio, frame_length, hop_length, sr=44100):\n",
    "    \n",
    "    # Pad with the reflection of the signal so that the frames are centered \n",
    "    # Padding is achieved by mirroring on the first and last values of the signal with frame_length // 2 samples\n",
    "    signal = np.pad(audio, int(frame_length // 2), mode='reflect')\n",
    "    \n",
    "    centroid = []\n",
    "    \n",
    "    for i in range(0, audio.shape[0], hop_length):\n",
    "        \n",
    "        cent = signal[i:i+frame_length]\n",
    "            \n",
    "        # Compute the discrete Fourier Transform (DFT) with the efficient Fast Fourier Transform (FFT)\n",
    "        magnitudes = np.abs(np.fft.fft(cent)) # magnitude of absolute (real) frequency values\n",
    "        \n",
    "        # Compute only the positive half of the DFT (i.e 1 + first half)\n",
    "        mag = magnitudes[:int(1 + magnitudes.shape[0] // 2)]\n",
    "        \n",
    "        # Compute the center frequencies of each bin\n",
    "        freq = np.linspace(0, sr/2, int(1 + cent.shape[0] // 2)) \n",
    "        \n",
    "        # Return weighted mean of the frequencies present in the signal\n",
    "        normalize_mag = mag / np.sum(mag)\n",
    "        centroid.append(np.sum(freq * normalize_mag)) \n",
    "        \n",
    "    return np.array(centroid)"
   ]
  },
  {
   "cell_type": "markdown",
   "id": "7a5daed5",
   "metadata": {},
   "source": [
    "**Spectral Bandwidth**\n",
    "\n",
    "Bandwidth is the difference between the upper and lower frequencies in a continuous band of frequencies. As we know the signals oscillate about a point so if the point is the centroid of the signal then the sum of maximum deviation of the signal on both sides of the point can be considered as the bandwidth of the signal at that time frame."
   ]
  },
  {
   "cell_type": "markdown",
   "id": "8970c145",
   "metadata": {},
   "source": [
    "<font size=\"5\">$Bandwidth = \\bigg(\\sum_{n} x(n) (f(n) - fc)^p\\bigg)^\\frac{1}{p} $</font>"
   ]
  },
  {
   "cell_type": "markdown",
   "id": "bde9df3e",
   "metadata": {},
   "source": [
    "- $x(n)$ is the weighted frequency value, or magnitude \n",
    "- $n$ is the bin number  \n",
    "- $f(n)$ is the center frequency of the frequency bin\n",
    "- $fc$ is the spectral centroid\n",
    "- $p$ is the power to raise deviation from spectral centroid"
   ]
  },
  {
   "cell_type": "code",
   "execution_count": null,
   "id": "43fd28e7",
   "metadata": {},
   "outputs": [],
   "source": [
    "def spectral_bandwidth(audio, frame_length, hop_length, sr=44100, p=2):\n",
    "    \n",
    "    # Pad with the reflection of the signal so that the frames are centered \n",
    "    # Padding is achieved by mirroring on the first and last values of the signal with frame_length // 2 samples\n",
    "    signal = np.pad(audio, int(frame_length // 2), mode='reflect')\n",
    "    \n",
    "    bandwidth = []\n",
    "    \n",
    "    for i in range(0, audio.shape[0], hop_length):\n",
    "        \n",
    "        frame = signal[i:i+frame_length]\n",
    "            \n",
    "        # Compute the discrete Fourier Transform (DFT) with the efficient Fast Fourier Transform (FFT)\n",
    "        magnitudes = np.abs(np.fft.fft(frame)) # magnitude of absolute (real) frequency values\n",
    "        \n",
    "        # Compute only the positive half of the DFT (i.e 1 + first half)\n",
    "        mag = magnitudes[:int(1 + magnitude.shape[0] // 2)]\n",
    "        \n",
    "        # Compute the center frequencies of each bin\n",
    "        freq = np.linspace(0, sr/2, int(1 + frame.shape[0] // 2))\n",
    "        \n",
    "        # Return weighted mean of the frequencies present in the signal\n",
    "        normalize_mag = mag / np.sum(mag)\n",
    "        centroid = np.sum(freq * normalize_mag)\n",
    "        \n",
    "        spectral_bandwidth = np.sum(normalize_mag * abs(freq - centroid) ** p) ** (1.0/p)\n",
    "        bandwidth.append(spectral_bandwidth) \n",
    "        \n",
    "    return np.array(bandwidth)"
   ]
  },
  {
   "cell_type": "markdown",
   "id": "085cb70e",
   "metadata": {},
   "source": [
    "In order to ease the manipulation of our spectral feature function, we create a small package `features.py` in order to import the three functions created above."
   ]
  },
  {
   "cell_type": "code",
   "execution_count": null,
   "id": "817ce0ee",
   "metadata": {},
   "outputs": [],
   "source": [
    "import features\n",
    "help(features)"
   ]
  },
  {
   "cell_type": "code",
   "execution_count": null,
   "id": "a81395a4",
   "metadata": {},
   "outputs": [],
   "source": [
    "frame_length = 2048\n",
    "hop_length = 512\n",
    "\n",
    "rms = features.root_mean_square(x, frame_length, hop_length)\n",
    "rms_librosa = librosa.feature.rms(x, frame_length=frame_length, hop_length=hop_length)\n",
    "\n",
    "cent = features.spectral_centroid(x, frame_length, hop_length)\n",
    "cent_librosa = librosa.feature.spectral_centroid(y=x, sr=44100, n_fft=frame_length, hop_length=hop_length)\n",
    "\n",
    "bandwidth = features.spectral_bandwidth(x, frame_length=frame_length, hop_length=hop_length, sr=44100, p=2)\n",
    "bandwidth_librosa = librosa.feature.spectral_bandwidth(y=x, sr=44100, n_fft=frame_length, hop_length=hop_length, p=2)\n",
    "\n",
    "# Plot the comparison between our functions and the one from librosa\n",
    "fig, ax = plt.subplots(1, 3, figsize=(18, 4))\n",
    "ax[0].plot(rms, label='rms')\n",
    "ax[0].plot(rms_librosa[0], color='r', label='librosa')\n",
    "ax[0].set_title('Root Mean Square')\n",
    "ax[0].legend()\n",
    "ax[1].plot(cent, label='centroid')\n",
    "ax[1].plot(cent_librosa[0], color='r', label='librosa')\n",
    "ax[1].set_title('Spectral Centroid')\n",
    "ax[1].legend()\n",
    "ax[2].plot(bandwidth, label='bandwidth')\n",
    "ax[2].plot(bandwidth_librosa[0], color='r', label='librosa')\n",
    "ax[2].set_title('Spectral Bandwidth')\n",
    "ax[2].legend(loc='lower right');"
   ]
  },
  {
   "cell_type": "markdown",
   "id": "054fa1e0",
   "metadata": {},
   "source": [
    "## Part 2\n",
    "Display a 3D scatter plot of the database versus the three computed features. In the scatter plot, you should color-code entries belonging to the different instruments. Axis should be labeled and a legend should be provided associate colors with instruments.\n",
    "\n",
    "Your program must not use any prior knowledge on the contents of the meta.csv (i.e. how many entries, which are the various labels, how many different labels are there). Everything must be computed by analyzing the data in the file (likely using Pandas). In other word, your program should also work if the contents of the database folder changes (e.g. more files, and more type of instrument), which is a test you can try to carry out to verify the robustness of your code."
   ]
  },
  {
   "cell_type": "code",
   "execution_count": null,
   "id": "f9f3e4cd",
   "metadata": {},
   "outputs": [],
   "source": [
    "def meta_csv(data):\n",
    "    \n",
    "    csv = pd.read_csv(data)\n",
    "    df = pd.DataFrame(csv)\n",
    "\n",
    "    # Get the unique values in the dataframe in order to get the instruments\n",
    "    instruments = df['label'].unique()\n",
    "    \n",
    "    # Create empty lists for the instruments\n",
    "    filenames = [[] for i in range(len(instruments))]\n",
    "\n",
    "    for index, value in enumerate(instruments):\n",
    "\n",
    "        filename = df.loc[(df['label'] == value)]\n",
    "\n",
    "        for x in filename['filename']:\n",
    "            filenames[index].append(x)\n",
    "            \n",
    "    return instruments, filenames"
   ]
  },
  {
   "cell_type": "code",
   "execution_count": null,
   "id": "c9cede6c",
   "metadata": {},
   "outputs": [],
   "source": [
    "def scatter3D(instruments, filenames):\n",
    "    \n",
    "    # Create empty lists for the instruments\n",
    "    spectral_features = [[] for i in range(len(instruments))]\n",
    "    \n",
    "    for index, value in enumerate(filenames):\n",
    "\n",
    "        # Create empty lists for spectral features\n",
    "        rms_instrument = []\n",
    "        centroid_instrument = []\n",
    "        bandwidth_instrument = []\n",
    "\n",
    "        for val in value:\n",
    "\n",
    "            # Selecting files by extensions\n",
    "            if val.endswith('.' + 'wav'):\n",
    "\n",
    "                audio_file = 'database/' + val\n",
    "\n",
    "                # load audio file with librosa in mono and 44.1 kHz\n",
    "                audio, sr = librosa.load(audio_file, sr=44100, mono=True)\n",
    "\n",
    "                # Compute spectral features with features package\n",
    "                rootmeansquare = features.root_mean_square(audio, audio.shape[0], audio.shape[0]+1)\n",
    "                spectralcentroid = features.spectral_centroid(audio, audio.shape[0], audio.shape[0]+1)\n",
    "                spectralbandwidth = features.spectral_bandwidth(audio, audio.shape[0], audio.shape[0]+1)\n",
    "\n",
    "                # Append spectral features values to list\n",
    "                rms_instrument.append(rootmeansquare)\n",
    "                centroid_instrument.append(spectralcentroid)\n",
    "                bandwidth_instrument.append(spectralbandwidth)\n",
    "\n",
    "                x = np.concatenate(rms_instrument)\n",
    "                y = np.concatenate(centroid_instrument)\n",
    "                z = np.concatenate(bandwidth_instrument)\n",
    "\n",
    "        # Extend spectral features values to the main list of lists\n",
    "        spectral_features[index].extend([x, y, z])\n",
    "\n",
    "    # Creating figure\n",
    "    fig = plt.figure(figsize=(13, 13))\n",
    "    ax = plt.axes(projection =\"3d\")\n",
    "\n",
    "    for x, y in zip(instruments, spectral_features):\n",
    "\n",
    "        rgb = (random.random(), random.random(), random.random())\n",
    "\n",
    "        # Creating 3D scatter plot\n",
    "        ax.scatter3D(y[0], y[1], y[2], color=[rgb], label=x, s=180)\n",
    "\n",
    "    ax.set_xlabel('Root Mean Square', fontsize=15)\n",
    "    ax.set_ylabel('Spectral Centroid (Hz)', fontsize=15)\n",
    "    ax.set_zlabel('Spectral Bandwidth (Hz)', fontsize=15)\n",
    "    ax.legend()\n",
    "\n",
    "    plt.title(\"Instruments spectral features\", fontsize=18)"
   ]
  },
  {
   "cell_type": "markdown",
   "id": "ab8549f6",
   "metadata": {},
   "source": [
    "Plotting the results"
   ]
  },
  {
   "cell_type": "code",
   "execution_count": null,
   "id": "2a45b3e4",
   "metadata": {},
   "outputs": [],
   "source": [
    "data = 'database/meta.csv'\n",
    "instruments, filenames = meta_csv(data)\n",
    "scatter3D(instruments, filenames)"
   ]
  },
  {
   "cell_type": "markdown",
   "id": "66370d03",
   "metadata": {},
   "source": [
    "## Part 3\n",
    "Filter each class with a different pair of filters in cascade. The filters should be a low pass and a high pass, and their cascade should form a bandpass.\n",
    "- One filter should be a second order IIR, the other a FIR of arbitrary order.\n",
    "- The FIR should be applied in the frequency domain (i.e. product of the DFT of signal and filter impulse response).\n",
    "- The IIR should be applied in Pure Data using the biquad object. This require you \"call PD\" from Python, passing input and output file names, and filter coefficients. \n",
    "- Display the overall frequency response of the various cascades you designed. \n",
    "- Filter parameters are arbitrary.\n",
    "- The filtered signals should be saved as wave files using the same name as the original file followed by _filtered.wav."
   ]
  },
  {
   "cell_type": "code",
   "execution_count": null,
   "id": "53e2b11a",
   "metadata": {},
   "outputs": [],
   "source": [
    "def FIR_fft(signal, order, passband_hz, stopband_hz, pass_zero='lowpass', sr=44100):\n",
    "    \n",
    "    numtaps = order-1 # filter length (or number of tabs)\n",
    "    \n",
    "    wp = passband_hz/(sr/2) # passband edge normalized frequency\n",
    "    ws = stopband_hz/(sr/2) # stopband edge normalized frequency\n",
    "\n",
    "    freqs = [0.0, wp, ws, 1.0]\n",
    "    \n",
    "    if pass_zero == 'lowpass':\n",
    "        gains = [1.0, 1.0, 0.0, 0.0] # normalized gain values (0.5 = -3 dB)\n",
    "    elif pass_zero == 'highpass':\n",
    "        gains = [0.0, 0.0, 1.0, 1.0] # normalized gain values (0.5 = -3 dB)\n",
    "                \n",
    "    # Compute the FIR filter coefficients \n",
    "    h = sig.firwin2(numtaps, freqs, gains, window='hann') # compute FIR coefficients using firwin2 function\n",
    "    \n",
    "    # Design the FIR filter in the frequency domain \n",
    "    h_padded = np.pad(h,[0,len(signal)-len(h)]) # pad FIR coefficients with zeros in order to match the signal length\n",
    "    \n",
    "    # Apply the discrete Fourier Transform to the FIR filter (move to the frequency domain)\n",
    "    X = scipy.fft.fft(signal)\n",
    "    H = scipy.fft.fft(h_padded)\n",
    "    \n",
    "    Y = X*H # do the product of the DFT of the signal with the padded filter impulse response\n",
    "    \n",
    "    # Apply the inverse discrete Fourier Transform to the FIR filter (back to the time domain)\n",
    "    y = np.real(scipy.fft.ifft(Y))\n",
    "        \n",
    "    return h, y # FIR filter coefficients + signal filtered in the frequency domain"
   ]
  },
  {
   "cell_type": "markdown",
   "id": "3e8f773c",
   "metadata": {},
   "source": [
    "## IIR Filter Design (for pd biquad~)"
   ]
  },
  {
   "cell_type": "code",
   "execution_count": null,
   "id": "e87d3d5e",
   "metadata": {},
   "outputs": [],
   "source": [
    "# Defining a function to convert from hertz to normalized frequency\n",
    "def hzNorm(hz, sr=44100):\n",
    "    norm = hz / (sr / 2)\n",
    "    if hz > sr / 2:\n",
    "        print(hz, \"Hz is above the Nyquist frequency for samplerate:\\t\", sr)\n",
    "    else:\n",
    "        return norm"
   ]
  },
  {
   "cell_type": "code",
   "execution_count": null,
   "id": "a555c294",
   "metadata": {},
   "outputs": [],
   "source": [
    "# Make a Dictionary for cutoff frequencies of the different instrument groups\n",
    "filterCutoffs = {}\n",
    "for index, value in enumerate(instruments):\n",
    "    filterCutoffs[value] = {}\n",
    "\n",
    "# Function to fill the values\n",
    "def setFilter(instrument, highpass, lowpass):\n",
    "    filterCutoffs[instrument] = dict({'HighPass': highpass, 'LowPass': lowpass})"
   ]
  },
  {
   "cell_type": "code",
   "execution_count": null,
   "id": "347e02eb",
   "metadata": {},
   "outputs": [],
   "source": [
    "# Filling the values\n",
    "setFilter('cello', 300, 1000)\n",
    "setFilter('guitar', 300, 1500)\n",
    "setFilter('clarinet', 500, 2000)\n",
    "setFilter('flute', 500, 2500)\n",
    "setFilter('harmonica', 1000, 6000)\n",
    "\n",
    "# Display the dictionary with its stored values\n",
    "filterCutoffs"
   ]
  },
  {
   "cell_type": "markdown",
   "id": "6cb2cdd7",
   "metadata": {},
   "source": [
    "## Processing FIR Filters"
   ]
  },
  {
   "cell_type": "code",
   "execution_count": null,
   "id": "44c617f9",
   "metadata": {},
   "outputs": [],
   "source": [
    "# Creating an empty filterBank dictionary to store different filter values\n",
    "filterBank = {}\n",
    "for index, value in enumerate(instruments):\n",
    "    filterBank[value] = {}"
   ]
  },
  {
   "cell_type": "code",
   "execution_count": null,
   "id": "213c2820",
   "metadata": {},
   "outputs": [],
   "source": [
    "# Function to apply FIR filters to every .wav according to instrument group,\n",
    "# saving the FIR-taps to the filterBank dictionary for later plotting,\n",
    "# and writing the filtered files for further processing in pd.\n",
    "\n",
    "def firProcessing():\n",
    "    for files, instrument in enumerate(instruments):\n",
    "        print('Processing: {}'.format(instrument))\n",
    "        for file in range(len(filenames[files])):\n",
    "            audio_file = 'database/' + filenames[files][file]\n",
    "            cutoff = filterCutoffs[instrument]['LowPass']\n",
    "            stopband = int(cutoff * 1.1)\n",
    "            wav, sr = librosa.load(audio_file, sr=44100, mono=True)\n",
    "            h, y = FIR_fft(wav, 99, cutoff, stopband, pass_zero='lowpass', sr=44100)\n",
    "            filterBank[instrument]['fir-taps'] = h\n",
    "            tmp_write = 'database/' + os.path.splitext(filenames[files][file])[0] + '_firtmp.wav'\n",
    "            sf.write(tmp_write, y, sr, subtype='PCM_16')\n",
    "    print('\\nFinished')            "
   ]
  },
  {
   "cell_type": "code",
   "execution_count": null,
   "id": "ca5f939b",
   "metadata": {},
   "outputs": [],
   "source": [
    "# Filtering the .wav-files\n",
    "firProcessing()"
   ]
  },
  {
   "cell_type": "markdown",
   "id": "5654878f",
   "metadata": {},
   "source": [
    "## Making IIR Filters"
   ]
  },
  {
   "cell_type": "code",
   "execution_count": null,
   "id": "dba9bef0",
   "metadata": {},
   "outputs": [],
   "source": [
    "# IIR Designs generated from https://www.earlevel.com/main/2021/09/02/biquad-calculator-v3/\n",
    "# for compatability with pd's biquad~ object\n",
    "\n",
    "# HighPass 300Hz   0.97863492, -1.95726984, 0.97863492, 1, -1.95637562, 0.95816407\n",
    "# HighPass 500Hz   0.96440960, -1.92881920, 0.96440960, 1, -1.92637001, 0.93126838\n",
    "# HighPass 1000Hz  0.92897887, -1.85795775, 0.92897887, 1, -1.84849691, 0.86741858\n",
    "\n",
    "# Adding sos values to the filterbank\n",
    "for index, value in enumerate(instruments):\n",
    "    if filterCutoffs[value]['HighPass'] == 300:\n",
    "        filterBank[value]['sos'] = [[0.97863492, -1.95726984, 0.97863492, 1, -1.95637562, 0.95816407]]\n",
    "    elif filterCutoffs[value]['HighPass'] == 500:\n",
    "        filterBank[value]['sos'] = [[0.96440960, -1.92881920, 0.96440960, 1, -1.92637001, 0.93126838]]\n",
    "    elif filterCutoffs[value]['HighPass'] == 1000:\n",
    "        filterBank[value]['sos'] = [[0.92897887, -1.85795775, 0.92897887, 1, -1.84849691, 0.86741858]] \n",
    "\n",
    "# Adding pd biquad~ values to the filterbank\n",
    "for index, value in enumerate(filterBank):\n",
    "    a1 = str(filterBank[value]['sos'][0][4] * -1)\n",
    "    a2 = str(filterBank[value]['sos'][0][5] * -1)\n",
    "    b1 = str(filterBank[value]['sos'][0][0])\n",
    "    b2 = str(filterBank[value]['sos'][0][1])\n",
    "    b3 = str(filterBank[value]['sos'][0][2])\n",
    "    biquad = str(a1 + ' ' + a2 + ' ' + b1 + ' ' + b2 + ' ' + b3)\n",
    "    \n",
    "    filterBank[value]['biquad'] = biquad    "
   ]
  },
  {
   "cell_type": "markdown",
   "id": "d4ccab8b",
   "metadata": {},
   "source": [
    "## Overall Frequency Response"
   ]
  },
  {
   "cell_type": "code",
   "execution_count": null,
   "id": "9a598e32",
   "metadata": {},
   "outputs": [],
   "source": [
    "# Generating b, a coefficients from the IIR sos-values\n",
    "for index, value in enumerate(filterBank):\n",
    "    b, a = sig.sos2tf(filterBank[value]['sos'])\n",
    "    filterBank[value]['iir-taps'] = b, a"
   ]
  },
  {
   "cell_type": "code",
   "execution_count": null,
   "id": "bb3557e9",
   "metadata": {},
   "outputs": [],
   "source": [
    "# Convolving the filters of each instrumentgroup to form a bandpass\n",
    "for index, value in enumerate(filterBank):\n",
    "    b1 = filterBank[value]['fir-taps']\n",
    "    b2 = filterBank[value]['iir-taps'][0]\n",
    "    a2 = filterBank[value]['iir-taps'][1]\n",
    "    \n",
    "    w, h1 = sig.freqz(b1) \n",
    "    w, h2 = sig.freqz(b2, a2)\n",
    "    \n",
    "    h = h1 * h2\n",
    "    \n",
    "    filterBank[value]['response'] = {'h': h, 'w': w}"
   ]
  },
  {
   "cell_type": "markdown",
   "id": "5a84e7af",
   "metadata": {},
   "source": [
    "Define a function to plot the filter's frequency response for each instruments of the database"
   ]
  },
  {
   "cell_type": "code",
   "execution_count": null,
   "id": "777f7e95",
   "metadata": {},
   "outputs": [],
   "source": [
    "def filter_response(instrument, filterBank, ax=ax, sr=44100):\n",
    "    \n",
    "    for i in filterBank:\n",
    "        if i == instrument:\n",
    "            h = filterBank[instrument]['response']['h']\n",
    "            w = filterBank[instrument]['response']['w']\n",
    "            \n",
    "    title = str.capitalize(instrument) + ' Bandpass'\n",
    "    highpass = filterCutoffs[instrument]['HighPass']\n",
    "    lowpass = filterCutoffs[instrument]['LowPass']\n",
    "    \n",
    "    w_n = w/math.pi # normalize frequency in π radians/sample\n",
    "    \n",
    "    ax.set_title(title, fontsize=15)\n",
    "    ax.plot(w_n, abs(h), color='b')\n",
    "    ax.set_ylabel('Gain', color='b', fontsize=12)\n",
    "    ax.set_xlabel('Normalized Frequency ($x$ $\\pi$ radians/sample)', fontsize=12)\n",
    "    \n",
    "    cutoff = highpass / (sr/2)\n",
    "    cutoff2 = lowpass / (sr/2)\n",
    "    \n",
    "    ax.axvline(cutoff, color='r', linestyle='--', linewidth=1, label='HiPass Cutoff')\n",
    "    ax.axvline(cutoff2, color='r', linestyle='--', linewidth=1, label='LoPass Cutoff')\n",
    "    ax.legend(fontsize=12)\n",
    "    ax.grid()\n",
    "\n",
    "    # compute the angles of the complex numbers of the computed frequency response\n",
    "    angles = []\n",
    "\n",
    "    for i in h:\n",
    "\n",
    "        phase = math.atan2(i.imag, i.real)\n",
    "        angles.append(phase)\n",
    "\n",
    "    # unwrap by taking the complement of large deltas with respect to the period\n",
    "    unwrap_angles = np.unwrap(angles)\n",
    "\n",
    "    ax2 = ax.twinx() # create a twin Axes sharing the xaxis\n",
    "    ax2.plot(w_n, unwrap_angles, 'g')\n",
    "    ax2.set_ylabel('Angle (radians)', color='g', fontsize=12)\n",
    "    ax2.grid(color='g', alpha=0.3)"
   ]
  },
  {
   "cell_type": "code",
   "execution_count": null,
   "id": "dcff0c4e",
   "metadata": {},
   "outputs": [],
   "source": [
    "fig= plt.figure(figsize=(12, 10))\n",
    "\n",
    "sub1 = fig.add_subplot(3,2,1) # three rows, two columns, fist cell\n",
    "sub2 = fig.add_subplot(3,2,2) # three rows, two columns, second cell\n",
    "sub3 = fig.add_subplot(3,2,3) # three rows, two columns, third cell\n",
    "sub4 = fig.add_subplot(3,2,4) # three rows, two columns, fourth cell\n",
    "sub5 = fig.add_subplot(3,2,(5,6)) # three rows, two colums, combined fifth and sixth cell\n",
    "\n",
    "# Plotting the filter responses\n",
    "filter_response('cello', filterBank, ax=sub1, sr=44100)\n",
    "filter_response('guitar', filterBank, ax=sub2, sr=44100)\n",
    "filter_response('clarinet', filterBank, ax=sub3, sr=44100)\n",
    "filter_response('flute', filterBank, ax=sub4, sr=44100)\n",
    "filter_response('harmonica', filterBank, ax=sub5, sr=44100)\n",
    "\n",
    "plt.tight_layout();"
   ]
  },
  {
   "cell_type": "markdown",
   "id": "c0c3d4af",
   "metadata": {},
   "source": [
    "## The pd-class:"
   ]
  },
  {
   "cell_type": "code",
   "execution_count": null,
   "id": "f1ecd48a",
   "metadata": {},
   "outputs": [],
   "source": [
    "class PdFilter:\n",
    "   \n",
    "    # Set your pd path below (for Mac)\n",
    "    pd_path = '/Applications/Pd-0.51-4.app'\n",
    "\n",
    "    \n",
    "    # Initialize instance\n",
    "    def __init__(self, instrument, files, biquad, pd_path=pd_path):\n",
    "        \n",
    "        self.instrument = instrument\n",
    "        self.files = files\n",
    "        self.biquad = biquad\n",
    "        \n",
    "        # Number of files to process in this instrument group\n",
    "        number = 0\n",
    "        for num in files:\n",
    "                number += 1\n",
    "        self.filecount = number\n",
    "       \n",
    "    # Representation in Python interpreter\n",
    "    def __repr__(self):\n",
    "        return f'PdFilter ({self.instrument})'\n",
    "\n",
    "    # Function to send the files to pd\n",
    "    def send2pd(self):\n",
    "\n",
    "        # pd executable\n",
    "        if os.sys.platform == 'darwin':\n",
    "            pd_exec = self.pd_path + '/Contents/Resources/bin/pd' #for Mac\n",
    "        elif os.sys.platform == 'win32':\n",
    "            pd_exec = '\"C:\\\\Program Files\\\\Pd\\\\bin\\\\pd.exe\"' #for Windows\n",
    "            \n",
    "        # pd patch used for filtering\n",
    "        pd_patch = 'readsf_batch.pd'    \n",
    "        \n",
    "        # Iterating through and processing each file of the instrument group\n",
    "        # Loading the FIR-filtered tmp-files and creating new filtered files\n",
    "        for file in self.files:\n",
    "            readfile = 'database/' + os.path.splitext(file)[0] + '_firtmp.wav'\n",
    "            filterfile = 'database/' + os.path.splitext(file)[0] + '_filtered.wav'\n",
    "                 \n",
    "            # pd message\n",
    "            pd_send = ' -send \"; pd dsp 1; biquad ' + self.biquad + '; readName ' + readfile + '; writeName ' + filterfile + '\"'\n",
    "\n",
    "            # execute command\n",
    "            pd_command = pd_exec + ' -open ' + pd_patch + pd_send + ' -nogui' + ' -batch'\n",
    "            \n",
    "            os.popen(pd_command)\n",
    "            \n",
    "    # Function to remove temp-files (if any) after they have done their job\n",
    "    def delFIRtmp(self):\n",
    "        for file in self.files:\n",
    "            tmpfile = 'database/' + os.path.splitext(file)[0] + '_firtmp.wav'\n",
    "            \n",
    "            try:\n",
    "                os.remove(tmpfile)\n",
    "            except:\n",
    "                pass        "
   ]
  },
  {
   "cell_type": "code",
   "execution_count": null,
   "id": "f0fe53b5",
   "metadata": {},
   "outputs": [],
   "source": [
    "# Function for making one instance of the PdFilter class for each instrument group\n",
    "def pdClassGen():\n",
    "\n",
    "    # Making a dictionary to sort the .wav-files by instrument\n",
    "    sortedfiles = {}\n",
    "    for index, value in enumerate(instruments):\n",
    "        sortedfiles[value] = filenames[index]\n",
    "\n",
    "    classy = list()\n",
    "    for instrument in sortedfiles:\n",
    "        classy.append(PdFilter(instrument, sortedfiles[instrument], filterBank[instrument]['biquad']))\n",
    "\n",
    "    \n",
    "    return classy"
   ]
  },
  {
   "cell_type": "code",
   "execution_count": null,
   "id": "db5ee44e",
   "metadata": {},
   "outputs": [],
   "source": [
    "# Creating instances of the class for each instrument\n",
    "py2pd = pdClassGen()\n",
    "py2pd"
   ]
  },
  {
   "cell_type": "code",
   "execution_count": null,
   "id": "ad5b7a95",
   "metadata": {
    "scrolled": false
   },
   "outputs": [],
   "source": [
    "# Example content from the first class instance (cello)\n",
    "display(py2pd[0].instrument)\n",
    "display(py2pd[4].files)\n",
    "display(py2pd[0].biquad)\n",
    "display(py2pd[0].send2pd)\n",
    "display(py2pd[0].delFIRtmp)"
   ]
  },
  {
   "cell_type": "markdown",
   "id": "5bb58fe9",
   "metadata": {},
   "source": [
    "### Process every .wav through pd\n",
    "Every instrumentgroup has its own class instance with individual files and biquad settings to be processed below.\n",
    "\n",
    "Due to the heavy CPU needed to batch process every .wav at once in pd (our computer went to 'lockdown' and force-restarted when trying this without sleeping in between), we're adding 10 sec sleeptime to ensure stability."
   ]
  },
  {
   "cell_type": "code",
   "execution_count": null,
   "id": "22cea2e8",
   "metadata": {},
   "outputs": [],
   "source": [
    "# Increase sleep time below, if needed\n",
    "send2pd_sleep = 10\n",
    "delFIRtmp_sleep = 5"
   ]
  },
  {
   "cell_type": "code",
   "execution_count": null,
   "id": "5c5e8861",
   "metadata": {},
   "outputs": [],
   "source": [
    "# Filtering all .wav-files\n",
    "for obj in py2pd:\n",
    "    obj.send2pd()\n",
    "    time.sleep(send2pd_sleep)"
   ]
  },
  {
   "cell_type": "markdown",
   "id": "a6678f06",
   "metadata": {},
   "source": [
    "#### Cleanup!"
   ]
  },
  {
   "cell_type": "code",
   "execution_count": null,
   "id": "aeaaccd4",
   "metadata": {},
   "outputs": [],
   "source": [
    "# Using the delFIRtmp() function of the class\n",
    "for obj in py2pd:\n",
    "    obj.delFIRtmp()\n",
    "    print('Deleting temp-files: {}'.format(obj.instrument))\n",
    "    time.sleep(delFIRtmp_sleep)\n",
    "print('\\nFinished')"
   ]
  },
  {
   "cell_type": "markdown",
   "id": "c433cddb",
   "metadata": {},
   "source": [
    "---"
   ]
  },
  {
   "cell_type": "markdown",
   "id": "d4eedcec",
   "metadata": {},
   "source": [
    "### Sofia's Rename/Filewriter\n",
    "\n",
    "Sofia wrote a function to rename wav files by adding '_filtered' and save them as wave-files. Unfortunately, it didn't fit the way we ended up making the class to filter through pd."
   ]
  },
  {
   "cell_type": "code",
   "execution_count": null,
   "id": "50bb1524",
   "metadata": {
    "scrolled": true
   },
   "outputs": [],
   "source": [
    "from soundfile import write\n",
    "\n",
    "def saveaswav(signal_array, sr):\n",
    "    csv = pd.read_csv('./meta.csv')\n",
    "    df = pd.DataFrame(csv)\n",
    "    names = [] #list where to store the '_filtered.wav' names\n",
    "    \n",
    "    for i in range(df['filename'].size):\n",
    "        if df['filename'][i].endswith('.wav') == True:\n",
    "            df['filename'][i] = df['filename'][i].replace('.wav', '_filtered.wav')\n",
    "            names.append(df['filename'][i])\n",
    "        \n",
    "        sf.write(names[i], signal_array, sr)\n",
    "        print('File saved as: {}'.format(names[i]))"
   ]
  }
 ],
 "metadata": {
  "kernelspec": {
   "display_name": "Python 3 (ipykernel)",
   "language": "python",
   "name": "python3"
  },
  "language_info": {
   "codemirror_mode": {
    "name": "ipython",
    "version": 3
   },
   "file_extension": ".py",
   "mimetype": "text/x-python",
   "name": "python",
   "nbconvert_exporter": "python",
   "pygments_lexer": "ipython3",
   "version": "3.9.7"
  }
 },
 "nbformat": 4,
 "nbformat_minor": 5
}
